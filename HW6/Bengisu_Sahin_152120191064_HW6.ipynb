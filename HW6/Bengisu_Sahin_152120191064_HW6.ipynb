{
  "nbformat": 4,
  "nbformat_minor": 0,
  "metadata": {
    "colab": {
      "provenance": []
    },
    "kernelspec": {
      "name": "python3",
      "display_name": "Python 3"
    },
    "language_info": {
      "name": "python"
    }
  },
  "cells": [
    {
      "cell_type": "markdown",
      "source": [
        "**INITIALIZATION**"
      ],
      "metadata": {
        "id": "HeRcZ9kmpgsK"
      }
    },
    {
      "cell_type": "code",
      "source": [
        "import numpy as np\n",
        "import pandas as pd\n",
        "from collections import Counter\n",
        "from sklearn.feature_extraction.text import TfidfVectorizer\n",
        "from sklearn.neighbors import KNeighborsClassifier\n",
        "\n",
        "# Training data\n",
        "documents = [\n",
        "    (\"free free free buy discount combo pleasure\", 'S'),\n",
        "    (\"free free free discount pleasure smile smile smile\", 'S'),\n",
        "    (\"cat mouse\", 'N'),\n",
        "    (\"cat cat dog dog dog dog\", 'N'),\n",
        "    (\"mouse\", 'N')\n",
        "]\n",
        "\n",
        "# Test data\n",
        "test_documents = [\n",
        "    \"dog cat mouse cat\",  # d6\n",
        "    \"Free free smile\"     # d7\n",
        "]"
      ],
      "metadata": {
        "id": "Pbuq6Se8peqN"
      },
      "execution_count": 9,
      "outputs": []
    },
    {
      "cell_type": "markdown",
      "source": [
        "**Step1. Choose the best two features (words) by using Mutual Information (MI)**"
      ],
      "metadata": {
        "id": "ged_hgQjjhC6"
      }
    },
    {
      "cell_type": "code",
      "execution_count": 11,
      "metadata": {
        "colab": {
          "base_uri": "https://localhost:8080/"
        },
        "id": "z28M7FP6U_yb",
        "outputId": "83a5c0a0-fa86-4d3a-9794-5cf13fa5ef1c"
      },
      "outputs": [
        {
          "output_type": "stream",
          "name": "stdout",
          "text": [
            "Selected features: ['discount', 'free']\n"
          ]
        }
      ],
      "source": [
        "# Tokenization and word counting\n",
        "def tokenize(text):\n",
        "    return text.lower().split()\n",
        "\n",
        "# Count occurrences\n",
        "def count_occurrences(documents):\n",
        "    word_counts = Counter()\n",
        "    class_counts = Counter()\n",
        "    word_class_counts = Counter()\n",
        "\n",
        "    for doc, label in documents:\n",
        "        tokens = set(tokenize(doc))\n",
        "        class_counts[label] += 1\n",
        "        for token in tokens:\n",
        "            word_counts[token] += 1\n",
        "            word_class_counts[(token, label)] += 1\n",
        "\n",
        "    return word_counts, class_counts, word_class_counts\n",
        "\n",
        "# Compute Mutual Information (MI)\n",
        "def compute_mi(word, word_counts, class_counts, word_class_counts, num_docs):\n",
        "    mi = 0.0\n",
        "    for cls in class_counts:\n",
        "        p_w_c = word_class_counts[(word, cls)] / num_docs\n",
        "        p_w = word_counts[word] / num_docs\n",
        "        p_c = class_counts[cls] / num_docs\n",
        "        if p_w_c > 0:\n",
        "            mi += p_w_c * np.log2(p_w_c / (p_w * p_c))\n",
        "    return mi\n",
        "\n",
        "# Get word counts and class counts\n",
        "word_counts, class_counts, word_class_counts = count_occurrences(documents)\n",
        "\n",
        "# Calculate MI for each word\n",
        "num_docs = len(documents)\n",
        "mi_scores = {word: compute_mi(word, word_counts, class_counts, word_class_counts, num_docs) for word in word_counts}\n",
        "\n",
        "# Select top 2 words with highest MI\n",
        "selected_features = sorted(mi_scores, key=mi_scores.get, reverse=True)[:2]\n",
        "print(f\"Selected features: {selected_features}\")\n",
        "\n"
      ]
    },
    {
      "cell_type": "markdown",
      "source": [
        "**Step2. You are expected to compute the TF*IDF score of selected two features**\n",
        "\n",
        "---\n",
        "\n",
        "**Step 3: Represent Each Document with Selected Features (TF x IDF Values) .**\n",
        "\n",
        "\n"
      ],
      "metadata": {
        "id": "fOwZ_30mkFAA"
      }
    },
    {
      "cell_type": "code",
      "source": [
        "# Vectorize documents\n",
        "vectorizer = TfidfVectorizer(vocabulary=selected_features)\n",
        "X_train = vectorizer.fit_transform([doc for doc, _ in documents])\n",
        "y_train = [label for _, label in documents]\n",
        "\n",
        "print(\"TF-IDF matrix for training data:\")\n",
        "print(X_train.toarray())\n",
        "\n",
        "# Create TF-IDF matrix (5x2)\n",
        "tfidf_matrix = X_train.toarray()\n",
        "print(\"TF-IDF matrix (5x2):\")\n",
        "print(tfidf_matrix)"
      ],
      "metadata": {
        "colab": {
          "base_uri": "https://localhost:8080/"
        },
        "id": "Gu92OS3wp3j_",
        "outputId": "782da955-691d-409a-e99c-1e3e21bc0a54"
      },
      "execution_count": 13,
      "outputs": [
        {
          "output_type": "stream",
          "name": "stdout",
          "text": [
            "TF-IDF matrix for training data:\n",
            "[[0.31622777 0.9486833 ]\n",
            " [0.31622777 0.9486833 ]\n",
            " [0.         0.        ]\n",
            " [0.         0.        ]\n",
            " [0.         0.        ]]\n",
            "TF-IDF matrix (5x2):\n",
            "[[0.31622777 0.9486833 ]\n",
            " [0.31622777 0.9486833 ]\n",
            " [0.         0.        ]\n",
            " [0.         0.        ]\n",
            " [0.         0.        ]]\n"
          ]
        }
      ]
    },
    {
      "cell_type": "markdown",
      "source": [
        "**Step 4 & 5: Calculate TF*IDF Values for Test Documents**"
      ],
      "metadata": {
        "id": "L_COGCIvkvFZ"
      }
    },
    {
      "cell_type": "code",
      "source": [
        "X_test = vectorizer.transform(test_documents)\n",
        "\n",
        "d6_tfidf = X_test[0].toarray()\n",
        "d7_tfidf = X_test[1].toarray()\n",
        "\n",
        "print(\"TF-IDF vector for d6:\")\n",
        "print(d6_tfidf)\n",
        "\n",
        "print(\"TF-IDF vector for d7:\")\n",
        "print(d7_tfidf)"
      ],
      "metadata": {
        "colab": {
          "base_uri": "https://localhost:8080/"
        },
        "id": "tvncF6C2qBe3",
        "outputId": "e8024748-0bc6-4986-8b0e-a07d9ce97cc3"
      },
      "execution_count": 14,
      "outputs": [
        {
          "output_type": "stream",
          "name": "stdout",
          "text": [
            "TF-IDF vector for d6:\n",
            "[[0. 0.]]\n",
            "TF-IDF vector for d7:\n",
            "[[0. 1.]]\n"
          ]
        }
      ]
    },
    {
      "cell_type": "markdown",
      "source": [
        "**Step6-7. Predict the class label of d6 & d7 by using the KNN algorithm.**"
      ],
      "metadata": {
        "id": "VwpdaRwAqRGF"
      }
    },
    {
      "cell_type": "code",
      "source": [
        "# Train KNN classifier\n",
        "knn = KNeighborsClassifier(n_neighbors=1)\n",
        "knn.fit(tfidf_matrix, y_train)\n",
        "\n",
        "# Predict class labels for d6 and d7\n",
        "d6_prediction = knn.predict(d6_tfidf)\n",
        "d7_prediction = knn.predict(d7_tfidf)\n",
        "\n",
        "print(f\"Predicted class for d6: {d6_prediction[0]}\")\n",
        "print(f\"Predicted class for d7: {d7_prediction[0]}\")"
      ],
      "metadata": {
        "colab": {
          "base_uri": "https://localhost:8080/"
        },
        "id": "Cq8k9QkYqM3b",
        "outputId": "96920b95-af6c-4a06-a8c7-f1f6bb6c3fb1"
      },
      "execution_count": 15,
      "outputs": [
        {
          "output_type": "stream",
          "name": "stdout",
          "text": [
            "Predicted class for d6: N\n",
            "Predicted class for d7: S\n"
          ]
        }
      ]
    }
  ]
}