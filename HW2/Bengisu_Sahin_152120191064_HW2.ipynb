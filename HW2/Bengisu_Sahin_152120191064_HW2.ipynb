{
  "cells": [
    {
      "cell_type": "code",
      "execution_count": 4,
      "metadata": {
        "id": "Q8Qbm0IKVyw-"
      },
      "outputs": [],
      "source": [
        "#Import python libraries\n",
        "import numpy as np\n",
        "import math\n",
        "import matplotlib.pyplot as plt\n",
        "import matplotlib.pyplot as plt\n",
        "from scipy.linalg import expm, sinm, cosm\n",
        "import matplotlib.pyplot as plt\n",
        "from collections import Counter\n",
        "from keras.datasets import cifar10"
      ]
    },
    {
      "cell_type": "code",
      "execution_count": 5,
      "metadata": {
        "id": "naSG5TzYYSds",
        "colab": {
          "base_uri": "https://localhost:8080/"
        },
        "outputId": "78e3abc8-3e49-46b9-e8b6-69804f06b19c"
      },
      "outputs": [
        {
          "output_type": "stream",
          "name": "stdout",
          "text": [
            "Downloading data from https://www.cs.toronto.edu/~kriz/cifar-10-python.tar.gz\n",
            "170498071/170498071 [==============================] - 2s 0us/step\n"
          ]
        }
      ],
      "source": [
        "#Load cifar10 data\n",
        "(x_train, y_train), (x_test, y_test) = cifar10.load_data()"
      ]
    },
    {
      "cell_type": "code",
      "execution_count": 6,
      "metadata": {
        "id": "5PciANeKYrjh"
      },
      "outputs": [],
      "source": [
        "#Reshape for knn\n",
        "x_train = x_train.reshape(-1, 3072)\n",
        "x_test = x_test.reshape(-1, 3072)"
      ]
    },
    {
      "cell_type": "code",
      "execution_count": 7,
      "metadata": {
        "colab": {
          "base_uri": "https://localhost:8080/"
        },
        "id": "UThsjHMEY5bk",
        "outputId": "49a21679-5962-4870-a548-781fc51e823f"
      },
      "outputs": [
        {
          "output_type": "stream",
          "name": "stdout",
          "text": [
            "(50000, 3072)\n",
            "(10000, 3072)\n"
          ]
        }
      ],
      "source": [
        "print(x_train.shape)\n",
        "print(x_test.shape)"
      ]
    },
    {
      "cell_type": "code",
      "execution_count": 8,
      "metadata": {
        "id": "Iq7ZGdc1lETI"
      },
      "outputs": [],
      "source": [
        "#Function for displaying images\n",
        "def display_image(image):\n",
        "    # Reshape the image to its original dimensions: 32x32x3\n",
        "    image = image.reshape((32, 32, 3))\n",
        "    plt.imshow(image)\n",
        "    plt.axis('off')\n",
        "    plt.show()\n"
      ]
    },
    {
      "cell_type": "code",
      "execution_count": 9,
      "metadata": {
        "id": "zOI5OocUnDCY"
      },
      "outputs": [],
      "source": [
        "# Label - Image type mapping\n",
        "categories = {\n",
        "    0: 'airplane',\n",
        "    1: 'automobile',\n",
        "    2: 'bird',\n",
        "    3: 'cat',\n",
        "    4: 'deer',\n",
        "    5: 'dog',\n",
        "    6: 'frog',\n",
        "    7: 'horse',\n",
        "    8: 'ship',\n",
        "    9: 'truck'\n",
        "}"
      ]
    },
    {
      "cell_type": "code",
      "source": [
        "#compute custom similarity of v1 to v2\n",
        "def custom_similarity(v1,v2):\n",
        "    v1=np.array(v1, dtype=np.float128)\n",
        "    v2=np.array(v2, dtype=np.float128)\n",
        "    expV2=np.exp(v2)\n",
        "    expV1=np.exp(v1)\n",
        "    dot1=np.dot(expV1,expV2)\n",
        "     # Compute first parameter of similarity\n",
        "    p1= dot1 / (np.linalg.norm(expV1)* np.linalg.norm(expV2))\n",
        "    # Compute second parameter of similarity\n",
        "    p2= np.sqrt(np.dot(v1,v2.T)) / (np.linalg.norm(v1) * np.linalg.norm(v2))\n",
        "    # Compute and return similarity\n",
        "    return p1 + p2"
      ],
      "metadata": {
        "id": "e5-98-PCSQ7H"
      },
      "execution_count": 10,
      "outputs": []
    },
    {
      "cell_type": "code",
      "source": [
        "#''' This function is used to classify sample_test using KNN algorithm and cifar data set.\n",
        "#Custom similarity is used for distance.\n",
        "#\n",
        "#        Args:\n",
        "#        x_train: is a matrix which consists cifar dataset\n",
        "#        y_train: includes class information from 0 to 9\n",
        "#        sample_test: is vector form of test\n",
        "#        k: is the nearest neighbor size\n",
        "#\n",
        "#        Returns:\n",
        "#        The return value is class name (0-9)\n",
        "#'''\n",
        "def knnCustomSimilarity(x_train, y_train, sample_test, k ):\n",
        "    dx,dy = x_train.shape\n",
        "    distance = np.zeros((dx,1))\n",
        "    class_count =  np.zeros((10,1))\n",
        "\n",
        "    #cosine similarity between sample_test and x_train is calculated and dasitance array holds values\n",
        "    for i in range (0,dx):\n",
        "        d=custom_similarity(sample_test,x_train[i,:])\n",
        "\n",
        "        distance[i,0] = d\n",
        "\n",
        "    #y_train vector is added to last column of distance vector and then distance is sorted from large to small\n",
        "    distance=np.hstack((distance,y_train))\n",
        "    sortedDis = distance[distance[:,0].argsort()[::-1][:dx]]\n",
        "\n",
        "    #first k biggest distance values is counted to detect which class is more\n",
        "    for i in range(k):\n",
        "        x=int(sortedDis[i,1])\n",
        "        class_count[x,0] = class_count[x,0] + 1\n",
        "\n",
        "    #counted class number is sorted to find class_name. max_index_col holds class name\n",
        "    max_index_col = np.argmax(class_count, axis=0)\n",
        "\n",
        "    #return class name\n",
        "    return max_index_col\n",
        "\n"
      ],
      "metadata": {
        "id": "yn-4kLuiUQ3x"
      },
      "execution_count": 19,
      "outputs": []
    },
    {
      "cell_type": "code",
      "source": [
        "#TEST CODE 1\n",
        "print(\"*************************************************PICTURE FROM TEST DATA , ITS ACTUAL LABEL AND KNN RESULT IS BELOW.(K=5)*************************************************\")\n",
        "sample_test = x_test[19,:]\n",
        "k=5\n",
        "print(\"Actual Class Label:\", y_test[19])\n",
        "print(\"Actual Class Label name corresponding to the main class: \",categories[y_test[19][0]])\n",
        "similar_class_name = knnCustomSimilarity(x_train, y_train, sample_test, k )\n",
        "print(\"Predicted Class Label:\", similar_class_name)\n",
        "print(\"Predicted Class Label name corresponding to the main class: \",categories[similar_class_name[0]])\n",
        "display_image(sample_test)"
      ],
      "metadata": {
        "colab": {
          "base_uri": "https://localhost:8080/",
          "height": 497
        },
        "id": "WtV6e6y3UZ6C",
        "outputId": "bb08ac82-5691-447d-cd7c-56122e0821fa"
      },
      "execution_count": 21,
      "outputs": [
        {
          "output_type": "stream",
          "name": "stdout",
          "text": [
            "*************************************************PICTURE FROM TEST DATA , ITS ACTUAL LABEL AND KNN RESULT IS BELOW.(K=5)*************************************************\n",
            "Actual Class Label: [6]\n",
            "Actual Class Label name corresponding to the main class:  frog\n",
            "Predicted Class Label: [6]\n",
            "Predicted Class Label name corresponding to the main class:  frog\n"
          ]
        },
        {
          "output_type": "display_data",
          "data": {
            "text/plain": [
              "<Figure size 640x480 with 1 Axes>"
            ],
            "image/png": "[encoded data removed]"
          },
          "metadata": {}
        }
      ]
    }
  ],
  "metadata": {
    "colab": {
      "provenance": []
    },
    "kernelspec": {
      "display_name": "Python 3",
      "name": "python3"
    },
    "language_info": {
      "name": "python"
    }
  },
  "nbformat": 4,
  "nbformat_minor": 0
}